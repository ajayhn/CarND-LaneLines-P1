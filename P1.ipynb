{
 "cells": [
  {
   "cell_type": "markdown",
   "metadata": {
    "deletable": true,
    "editable": true
   },
   "source": [
    "# Self-Driving Car Engineer Nanodegree\n",
    "\n",
    "\n",
    "## Project: **Finding Lane Lines on the Road** \n",
    "***\n",
    "In this project, you will use the tools you learned about in the lesson to identify lane lines on the road.  You can develop your pipeline on a series of individual images, and later apply the result to a video stream (really just a series of images). Check out the video clip \"raw-lines-example.mp4\" (also contained in this repository) to see what the output should look like after using the helper functions below. \n",
    "\n",
    "Once you have a result that looks roughly like \"raw-lines-example.mp4\", you'll need to get creative and try to average and/or extrapolate the line segments you've detected to map out the full extent of the lane lines.  You can see an example of the result you're going for in the video \"P1_example.mp4\".  Ultimately, you would like to draw just one line for the left side of the lane, and one for the right.\n",
    "\n",
    "In addition to implementing code, there is a brief writeup to complete. The writeup should be completed in a separate file, which can be either a markdown file or a pdf document. There is a [write up template](https://github.com/udacity/CarND-LaneLines-P1/blob/master/writeup_template.md) that can be used to guide the writing process. Completing both the code in the Ipython notebook and the writeup template will cover all of the [rubric points](https://review.udacity.com/#!/rubrics/322/view) for this project.\n",
    "\n",
    "---\n",
    "Let's have a look at our first image called 'test_images/solidWhiteRight.jpg'.  Run the 2 cells below (hit Shift-Enter or the \"play\" button above) to display the image.\n",
    "\n",
    "**Note: If, at any point, you encounter frozen display windows or other confounding issues, you can always start again with a clean slate by going to the \"Kernel\" menu above and selecting \"Restart & Clear Output\".**\n",
    "\n",
    "---"
   ]
  },
  {
   "cell_type": "markdown",
   "metadata": {
    "deletable": true,
    "editable": true
   },
   "source": [
    "**The tools you have are color selection, region of interest selection, grayscaling, Gaussian smoothing, Canny Edge Detection and Hough Tranform line detection.  You  are also free to explore and try other techniques that were not presented in the lesson.  Your goal is piece together a pipeline to detect the line segments in the image, then average/extrapolate them and draw them onto the image for display (as below).  Once you have a working pipeline, try it out on the video stream below.**\n",
    "\n",
    "---\n",
    "\n",
    "<figure>\n",
    " <img src=\"examples/line-segments-example.jpg\" width=\"380\" alt=\"Combined Image\" />\n",
    " <figcaption>\n",
    " <p></p> \n",
    " <p style=\"text-align: center;\"> Your output should look something like this (above) after detecting line segments using the helper functions below </p> \n",
    " </figcaption>\n",
    "</figure>\n",
    " <p></p> \n",
    "<figure>\n",
    " <img src=\"examples/laneLines_thirdPass.jpg\" width=\"380\" alt=\"Combined Image\" />\n",
    " <figcaption>\n",
    " <p></p> \n",
    " <p style=\"text-align: center;\"> Your goal is to connect/average/extrapolate line segments to get output like this</p> \n",
    " </figcaption>\n",
    "</figure>"
   ]
  },
  {
   "cell_type": "markdown",
   "metadata": {
    "deletable": true,
    "editable": true
   },
   "source": [
    "**Run the cell below to import some packages.  If you get an `import error` for a package you've already installed, try changing your kernel (select the Kernel menu above --> Change Kernel).  Still have problems?  Try relaunching Jupyter Notebook from the terminal prompt.  Also, see [this forum post](https://carnd-forums.udacity.com/cq/viewquestion.action?spaceKey=CAR&id=29496372&questionTitle=finding-lanes---import-cv2-fails-even-though-python-in-the-terminal-window-has-no-problem-with-import-cv2) for more troubleshooting tips.**  "
   ]
  },
  {
   "cell_type": "markdown",
   "metadata": {
    "deletable": true,
    "editable": true
   },
   "source": [
    "## Import Packages"
   ]
  },
  {
   "cell_type": "code",
   "execution_count": null,
   "metadata": {
    "collapsed": false,
    "deletable": true,
    "editable": true
   },
   "outputs": [],
   "source": [
    "#importing some useful packages\n",
    "import matplotlib.pyplot as plt\n",
    "import matplotlib.image as mpimg\n",
    "import numpy as np\n",
    "import cv2\n",
    "%matplotlib inline"
   ]
  },
  {
   "cell_type": "markdown",
   "metadata": {
    "deletable": true,
    "editable": true
   },
   "source": [
    "## Read in an Image"
   ]
  },
  {
   "cell_type": "code",
   "execution_count": null,
   "metadata": {
    "collapsed": false,
    "deletable": true,
    "editable": true
   },
   "outputs": [],
   "source": [
    "#reading in an image\n",
    "image = mpimg.imread('test_images/solidWhiteRight.jpg')\n",
    "\n",
    "#printing out some stats and plotting\n",
    "print('This image is:', type(image), 'with dimensions:', image.shape)\n",
    "plt.imshow(image)  # if you wanted to show a single color channel image called 'gray', for example, call as plt.imshow(gray, cmap='gray')"
   ]
  },
  {
   "cell_type": "markdown",
   "metadata": {
    "deletable": true,
    "editable": true
   },
   "source": [
    "## Ideas for Lane Detection Pipeline"
   ]
  },
  {
   "cell_type": "markdown",
   "metadata": {
    "deletable": true,
    "editable": true
   },
   "source": [
    "**Some OpenCV functions (beyond those introduced in the lesson) that might be useful for this project are:**\n",
    "\n",
    "`cv2.inRange()` for color selection  \n",
    "`cv2.fillPoly()` for regions selection  \n",
    "`cv2.line()` to draw lines on an image given endpoints  \n",
    "`cv2.addWeighted()` to coadd / overlay two images\n",
    "`cv2.cvtColor()` to grayscale or change color\n",
    "`cv2.imwrite()` to output images to file  \n",
    "`cv2.bitwise_and()` to apply a mask to an image\n",
    "\n",
    "**Check out the OpenCV documentation to learn about these and discover even more awesome functionality!**"
   ]
  },
  {
   "cell_type": "markdown",
   "metadata": {
    "deletable": true,
    "editable": true
   },
   "source": [
    "## Helper Functions"
   ]
  },
  {
   "cell_type": "markdown",
   "metadata": {
    "deletable": true,
    "editable": true
   },
   "source": [
    "Below are some helper functions to help get you started. They should look familiar from the lesson!"
   ]
  },
  {
   "cell_type": "markdown",
   "metadata": {
    "deletable": true,
    "editable": true
   },
   "source": [
    "## Test Images\n",
    "\n",
    "Build your pipeline to work on the images in the directory \"test_images\"  \n",
    "**You should make sure your pipeline works well on these images before you try the videos.**"
   ]
  },
  {
   "cell_type": "code",
   "execution_count": null,
   "metadata": {
    "collapsed": false,
    "deletable": true,
    "editable": true
   },
   "outputs": [],
   "source": [
    "import os\n",
    "os.listdir(\"test_images/\")"
   ]
  },
  {
   "cell_type": "code",
   "execution_count": null,
   "metadata": {
    "collapsed": false,
    "deletable": true,
    "editable": true
   },
   "outputs": [],
   "source": [
    "import math\n",
    "import statistics\n",
    "\n",
    "def grayscale(img):\n",
    "    \"\"\"Applies the Grayscale transform\n",
    "    This will return an image with only one color channel\n",
    "    but NOTE: to see the returned image as grayscale\n",
    "    (assuming your grayscaled image is called 'gray')\n",
    "    you should call plt.imshow(gray, cmap='gray')\"\"\"\n",
    "    return cv2.cvtColor(img, cv2.COLOR_RGB2GRAY)\n",
    "    # Or use BGR2GRAY if you read an image with cv2.imread()\n",
    "    # return cv2.cvtColor(img, cv2.COLOR_BGR2GRAY)\n",
    "    \n",
    "def canny(img, low_threshold, high_threshold):\n",
    "    \"\"\"Applies the Canny transform\"\"\"\n",
    "    return cv2.Canny(img, low_threshold, high_threshold)\n",
    "\n",
    "def gaussian_blur(img, kernel_size):\n",
    "    \"\"\"Applies a Gaussian Noise kernel\"\"\"\n",
    "    return cv2.GaussianBlur(img, (kernel_size, kernel_size), 0)\n",
    "\n",
    "def region_of_interest(img, vertices):\n",
    "    \"\"\"\n",
    "    Applies an image mask.\n",
    "    \n",
    "    Only keeps the region of the image defined by the polygon\n",
    "    formed from `vertices`. The rest of the image is set to black.\n",
    "    \"\"\"\n",
    "    #defining a blank mask to start with\n",
    "    mask = np.zeros_like(img)   \n",
    "    \n",
    "    #defining a 3 channel or 1 channel color to fill the mask with depending on the input image\n",
    "    if len(img.shape) > 2:\n",
    "        channel_count = img.shape[2]  # i.e. 3 or 4 depending on your image\n",
    "        ignore_mask_color = (255,) * channel_count\n",
    "    else:\n",
    "        ignore_mask_color = 255\n",
    "        \n",
    "    #filling pixels inside the polygon defined by \"vertices\" with the fill color    \n",
    "    cv2.fillPoly(mask, vertices, ignore_mask_color)\n",
    "    \n",
    "    #returning the image only where mask pixels are nonzero\n",
    "    masked_image = cv2.bitwise_and(img, mask)\n",
    "    return masked_image\n",
    "\n",
    "def line_length(x1, y1, x2, y2):\n",
    "    x = x1 - x2\n",
    "    y = y1 - y2\n",
    "    return math.sqrt((x*x)+(y*y))\n",
    "\n",
    "def line_slope(x1, y1, x2, y2):\n",
    "    if x2 == x1:\n",
    "        return 0\n",
    "    \n",
    "    return (y2-y1)/(x2-x1)\n",
    "\n",
    "# courtesy https://stackoverflow.com/questions/20677795/how-do-i-compute-the-intersection-point-of-two-lines-in-python\n",
    "def line_intersection(line1, line2):\n",
    "    xdiff = (line1[0][0] - line1[1][0], line2[0][0] - line2[1][0])\n",
    "    ydiff = (line1[0][1] - line1[1][1], line2[0][1] - line2[1][1]) #Typo was here\n",
    "\n",
    "    def det(a, b):\n",
    "        return a[0] * b[1] - a[1] * b[0]\n",
    "\n",
    "    div = det(xdiff, ydiff)\n",
    "    if div == 0:\n",
    "       raise Exception('lines do not intersect')\n",
    "\n",
    "    d = (det(*line1), det(*line2))\n",
    "    x = det(d, xdiff) / div\n",
    "    y = det(d, ydiff) / div\n",
    "    return x, y\n",
    "\n",
    "# This routine can optionally take in previously found\n",
    "# left/right vertices on same image - it will then not\n",
    "# re-draw the left/right segments.\n",
    "def draw_lines(img, lines, color=[255, 0, 0], thickness=2,\n",
    "               left_vertices=None, right_vertices=None):\n",
    "    \"\"\"\n",
    "    NOTE: this is the function you might want to use as a starting point once you want to \n",
    "    average/extrapolate the line segments you detect to map out the full\n",
    "    extent of the lane (going from the result shown in raw-lines-example.mp4\n",
    "    to that shown in P1_example.mp4).  \n",
    "    \n",
    "    Think about things like separating line segments by their \n",
    "    slope ((y2-y1)/(x2-x1)) to decide which segments are part of the left\n",
    "    line vs. the right line.  Then, you can average the position of each of \n",
    "    the lines and extrapolate to the top and bottom of the lane.\n",
    "    \n",
    "    This function draws `lines` with `color` and `thickness`.    \n",
    "    Lines are drawn on the image inplace (mutates the image).\n",
    "    If you want to make the lines semi-transparent, think about combining\n",
    "    this function with the weighted_img() function below\n",
    "    \"\"\"    \n",
    "    from operator import itemgetter\n",
    "    \n",
    "    # stores all detected segments from HoughLinesP alongwith slope, intercept and length\n",
    "    all_seg_info = []\n",
    "    for line in lines:\n",
    "        for x1,y1,x2,y2 in line:\n",
    "            slope = (y2-y1)/(x2-x1)\n",
    "            if (slope < 0) and left_vertices:\n",
    "                # left already handled in earlier pass, ignore segment\n",
    "                continue\n",
    "            if (slope > 0) and right_vertices:\n",
    "                # right already handled in earlier pass, ignore segment\n",
    "                continue\n",
    "            intercept = y1 - (slope*x1)\n",
    "            length = line_length(x1,y1,x2,y2)\n",
    "                \n",
    "            all_seg_info.append(\n",
    "                (x1, y1, x2, y2, slope, intercept, length))\n",
    "            \n",
    "            # Debug for seeing 'raw' segments\n",
    "            #cv2.line(img, (x1, y1), (x2, y2), color, thickness)\n",
    "    \n",
    "    # These are the parameters to determine if segment is valid\n",
    "    # and if valid whether it is left or right portion.\n",
    "    left_slope_min = -0.85\n",
    "    left_slope_max = -0.65\n",
    "    right_slope_min = 0.5\n",
    "    right_slope_max = 0.7\n",
    "    \n",
    "    # classify to left/right + sort by line segment's y1 (so bottom to top of img)\n",
    "    if left_vertices:\n",
    "        # create a segment from previous pass\n",
    "        bottom_left_x, bottom_left_y, top_left_x, top_left_y = left_vertices\n",
    "        slope = (top_left_y-bottom_left_y)/(top_left_x-bottom_left_x)\n",
    "        intercept = bottom_left_y - (slope*bottom_left_x)\n",
    "        length = line_length(bottom_left_x, bottom_left_y,\n",
    "                             top_left_x, top_left_y)\n",
    "        left_seg_info = [(bottom_left_x, bottom_left_y, top_left_x, top_left_y,\n",
    "                          slope, intercept, length)]\n",
    "    else:\n",
    "        left_seg_info = sorted([si for si in all_seg_info\n",
    "                                    if (left_slope_min<=si[4]<=left_slope_max)],\n",
    "                               key=itemgetter(1),\n",
    "                               reverse=True)\n",
    "    if right_vertices:\n",
    "        # create a segment from previous pass\n",
    "        bottom_right_x, bottom_right_y, top_right_x, top_right_y = right_vertices\n",
    "        slope = (top_right_y-bottom_right_y)/(top_right_x-bottom_right_x)\n",
    "        intercept = bottom_right_y - (slope*bottom_right_x)\n",
    "        length = line_length(bottom_right_x, bottom_right_y,\n",
    "                             top_right_x, top_right_y)\n",
    "        right_seg_info = [(bottom_right_x, bottom_right_y, top_right_x, top_right_y,\n",
    "                          slope, intercept, length)]\n",
    "\n",
    "    else:\n",
    "        right_seg_info = sorted([si for si in all_seg_info\n",
    "                                    if (right_slope_min<=si[4]<=right_slope_max)],\n",
    "                                key=itemgetter(1),\n",
    "                                reverse=True)\n",
    "    \n",
    "    # avg is really median..\n",
    "    avg_left_slope = statistics.median([si[4] for si in left_seg_info] or [0])\n",
    "    avg_right_slope = statistics.median([si[4] for si in right_seg_info] or [0])\n",
    "    avg_left_int = statistics.median([si[5] for si in left_seg_info] or [0])\n",
    "    avg_right_int = statistics.median([si[5] for si in right_seg_info] or [0])\n",
    "    \n",
    "    # filter out outlier segments w.r.t slope/intersection\n",
    "    left_seg_info = [si for si in left_seg_info\n",
    "                        if ((np.abs(si[4]-avg_left_slope) <= 0.05*np.abs(avg_left_slope)) and\n",
    "                             (np.abs(si[5]-avg_left_int) <= 0.03*np.abs(avg_left_int)))]\n",
    "    right_seg_info = [si for si in right_seg_info\n",
    "                         if ((np.abs(si[4]-avg_right_slope) <= 0.05*np.abs(avg_right_slope)) and\n",
    "                             (np.abs(si[5]-avg_right_int) <= 2*np.abs(avg_right_int)))]\n",
    "\n",
    "    \n",
    "    # Create polylines to draw on original image.\n",
    "    left_polylines = []\n",
    "    right_polylines = []\n",
    "    \n",
    "    # calculate valid lengths for later reference to see if at bottom of image\n",
    "    # width between left and right segments are too large/small\n",
    "    valid_left_len = valid_right_len = 0\n",
    "    \n",
    "    # filter if slope differs by more than 20% of median\n",
    "    for x1,y1,x2,y2,slope,intercept,length in left_seg_info:\n",
    "        #print(\"got x1,y1,inter,len from left_seg_info \", x1, y1, intercept, length)\n",
    "\n",
    "        if left_polylines:\n",
    "            # ignore a point that differs much from avg slope\n",
    "            slope = line_slope(left_polylines[-1][0], left_polylines[-1][1],\n",
    "                               x1, y1)\n",
    "            if np.abs(slope - avg_left_slope) > np.abs(0.2*avg_left_slope):\n",
    "                continue\n",
    "        valid_left_len += length\n",
    "        left_polylines.append([x1,y1])\n",
    "        \n",
    "        # Debug for seeing filtered 'raw' segments\n",
    "        #cv2.line(img, (x1,y1), (x2,y2), [0,255,0], thickness)\n",
    "\n",
    "    # filter if slope differs by more than 20% of median\n",
    "    for x1,y1,x2,y2,slope,intercept,length in right_seg_info:\n",
    "        #print(\"got x1,y1,inter,slope,len from right_seg_info \", x1, y1, intercept, slope, length)\n",
    "\n",
    "        if right_polylines:\n",
    "            # ignore a point that differs much from avg slope\n",
    "            slope = line_slope(right_polylines[-1][0], right_polylines[-1][1],\n",
    "                               x1, y1)\n",
    "            if np.abs(slope - avg_right_slope) > np.abs(0.2*avg_right_slope):\n",
    "                #print(\"ignoring \", x1, y1)\n",
    "                continue\n",
    "        #print(\"adding to right-poly \", x1, y1)\n",
    "        valid_right_len += length\n",
    "        right_polylines.append([x1,y1])\n",
    "\n",
    "        # Debug for seeing filtered 'raw' segments\n",
    "        #cv2.line(img, (x1,y1), (x2,y2), [0,255,0], thickness)\n",
    "        \n",
    "\n",
    "    # Used to extrapolate down and up.\n",
    "    left_first = (left_seg_info or [0])[0]\n",
    "    left_last = (left_seg_info or [0])[-1]\n",
    "    right_first = (right_seg_info or [0])[0]\n",
    "    right_last = (right_seg_info or [0])[-1]\n",
    "\n",
    "    # extrapolate to bottom of image\n",
    "    bottom_y = img.shape[0]\n",
    "    if left_first:\n",
    "        bottom_left_x = int((bottom_y - avg_left_int)/avg_left_slope)\n",
    "        left_polylines.insert(0, (bottom_left_x, bottom_y))\n",
    "        \n",
    "    if right_first:\n",
    "        bottom_right_x = int((bottom_y - avg_right_int)/avg_right_slope)\n",
    "        right_polylines.insert(0, (bottom_right_x, bottom_y))\n",
    "    \n",
    "    if left_first and right_first:\n",
    "        # verify bottom interpolation is within range,\n",
    "        # else omit right/left based on the greater valid-length\n",
    "        bottom_width = line_length(left_polylines[0][0], left_polylines[0][1],\n",
    "                               right_polylines[0][0], right_polylines[0][1])\n",
    "        bottom_x_ratio = bottom_width/img.shape[1]\n",
    "        #print(\"bottom_x_ratio \", bottom_x_ratio)\n",
    "        if (bottom_x_ratio <= 0.7) or (bottom_x_ratio >= 0.77):\n",
    "            # one of the segments is wrongly thought to be lane\n",
    "            #print(\"valid left/right \", valid_left_len, valid_right_len)\n",
    "            if valid_left_len > valid_right_len:\n",
    "                right_polylines = []\n",
    "                right_first = right_last = None\n",
    "                valid_right_len = 0\n",
    "            else:\n",
    "                left_polylines = []\n",
    "                left_first = left_last = None\n",
    "                valid_left_len = 0\n",
    "                \n",
    "        \n",
    "    # extrapolate to top of image\n",
    "    # 1. find intersection 2. clip points beyond 3. extrapolate upto\n",
    "    if left_last and right_last:\n",
    "        intersection_pt = line_intersection([[left_last[0], left_last[1]], [left_last[2], left_last[3]]],\n",
    "                                            [[right_last[0], right_last[1]], [right_last[2], right_last[3]]])\n",
    "    else:\n",
    "        intersection_pt = None\n",
    "\n",
    "    if intersection_pt:\n",
    "        # clip segments beyond intersection point\n",
    "        left_polylines = [l for l in left_polylines \n",
    "                            if (l[0] <= intersection_pt[0]) and (l[1] >= intersection_pt[1])]\n",
    "        right_polylines = [l for l in right_polylines \n",
    "                             if (l[0] >= intersection_pt[0]) and (l[1] >= intersection_pt[1])]\n",
    "\n",
    "        # extend upto intersection point's 'y' (- delta)...\n",
    "        top_y = intersection_pt[1] + 10\n",
    "        top_left_x = int((top_y - avg_left_int)/avg_left_slope)                                \n",
    "        top_right_x = int((top_y - avg_right_int)/avg_right_slope)\n",
    "        \n",
    "        # ...and clip back if crossed-over\n",
    "        if top_left_x > top_right_x:\n",
    "            top_x = int((top_left_x+top_right_x)/2) + 25\n",
    "            top_left_y = int((top_x*avg_left_slope) + avg_left_int)\n",
    "            top_right_y = int((top_x*avg_right_slope) + avg_right_int)\n",
    "            left_polylines.append((top_x, top_left_y))\n",
    "            right_polylines.append((top_x, top_right_y))\n",
    "        else:\n",
    "            left_polylines.append((top_left_x, top_y))\n",
    "            right_polylines.append((top_right_x, top_y))\n",
    "\n",
    "    if left_vertices:\n",
    "        # nothing changed, don't draw\n",
    "        pass\n",
    "    elif left_polylines:\n",
    "        # sort lines from bottom to top\n",
    "        left_polylines = sorted(left_polylines, key=itemgetter(1), reverse=True)\n",
    "        left_pts = np.array([x for x in left_polylines], np.int32)\n",
    "        bottom_left_x = left_polylines[0][0]\n",
    "        bottom_left_y = left_polylines[0][1]\n",
    "        top_left_x = left_polylines[-1][0]\n",
    "        top_left_y = left_polylines[-1][1]\n",
    "        cv2.polylines(img, [left_pts], False, [0,0,255], thickness)\n",
    "    else:\n",
    "        # no luck finding any segment\n",
    "        bottom_left_x = bottom_left_y = top_left_x = top_left_y = 0\n",
    "    \n",
    "    if right_vertices:\n",
    "        # nothing changed, don't draw\n",
    "        pass\n",
    "    elif right_polylines:\n",
    "        # sort lines from bottom to top\n",
    "        right_polylines = sorted(right_polylines, key=itemgetter(1), reverse=True)\n",
    "        right_pts = np.array([x for x in right_polylines], np.int32)\n",
    "        bottom_right_x = right_polylines[0][0]\n",
    "        bottom_right_y = right_polylines[0][1]\n",
    "        top_right_x = right_polylines[-1][0]\n",
    "        top_right_y = right_polylines[-1][1]\n",
    "        cv2.polylines(img, [right_pts], False, [255,0,0], thickness)\n",
    "    else:\n",
    "        # no luck finding any segment\n",
    "        bottom_right_x = bottom_right_y = top_right_x = top_right_y = 0\n",
    "            \n",
    "    return ((bottom_left_x, bottom_left_y, top_left_x, top_left_y),\n",
    "            (bottom_right_x, bottom_right_y, top_right_x, top_right_y),\n",
    "            valid_left_len, valid_right_len)\n",
    "    \n",
    "\n",
    "def hough_lines(img, rho, theta, threshold, min_line_len, max_line_gap, left_vertices=None, right_vertices=None):\n",
    "    \"\"\"\n",
    "    `img` should be the output of a Canny transform.\n",
    "        \n",
    "    Returns an image with hough lines drawn.\n",
    "    \"\"\"\n",
    "    lines = cv2.HoughLinesP(img, rho, theta, threshold, np.array([]), minLineLength=min_line_len, maxLineGap=max_line_gap)\n",
    "    line_img = np.zeros((img.shape[0], img.shape[1], 3), dtype=np.uint8)\n",
    "    left_vertices, right_vertices, left_len, right_len = draw_lines(\n",
    "        line_img, lines, thickness=5, left_vertices=left_vertices, right_vertices=right_vertices)\n",
    "\n",
    "    return line_img, left_vertices, right_vertices, left_len, right_len\n",
    "\n",
    "# Python 3 has support for cool math symbols.\n",
    "\n",
    "def weighted_img(img, initial_img, α=0.8, β=1., λ=0.):\n",
    "    \"\"\"\n",
    "    `img` is the output of the hough_lines(), An image with lines drawn on it.\n",
    "    Should be a blank image (all black) with lines drawn on it.\n",
    "    \n",
    "    `initial_img` should be the image before any processing.\n",
    "    \n",
    "    The result image is computed as follows:\n",
    "    \n",
    "    initial_img * α + img * β + λ\n",
    "    NOTE: initial_img and img must be the same shape!\n",
    "    \"\"\"\n",
    "    return cv2.addWeighted(initial_img, α, img, β, λ)"
   ]
  },
  {
   "cell_type": "markdown",
   "metadata": {
    "deletable": true,
    "editable": true
   },
   "source": [
    "## Build a Lane Finding Pipeline\n",
    "\n"
   ]
  },
  {
   "cell_type": "markdown",
   "metadata": {
    "deletable": true,
    "editable": true
   },
   "source": [
    "Build the pipeline and run your solution on all test_images. Make copies into the `test_images_output` directory, and you can use the images in your writeup report.\n",
    "\n",
    "Try tuning the various parameters, especially the low and high Canny thresholds as well as the Hough lines parameters."
   ]
  },
  {
   "cell_type": "code",
   "execution_count": null,
   "metadata": {
    "collapsed": false,
    "deletable": true,
    "editable": true,
    "scrolled": true
   },
   "outputs": [],
   "source": [
    "# Helper routine to debug/view.\n",
    "def draw_test_line(file_name, x1, y1, slope=None, x2=None, y2=None):\n",
    "    my_image = mpimg.imread(file_name)\n",
    "    print('x = , y = ', my_image.shape[1], my_image.shape[0])\n",
    "    if slope is not None:   \n",
    "        intercept = y1 - (slope*x1)\n",
    "        y2 = 270\n",
    "        x2 = (y2 - intercept)/slope\n",
    "    else:\n",
    "        intercept = None\n",
    "    print(x1, y1, x2, y2, slope, intercept)\n",
    "    cv2.line(my_image, (int(x1),int(y1)), (int(x2),int(y2)), [0,255,0], 10)\n",
    "    plt.subplot(1,1,1)\n",
    "    plt.imshow(my_image)\n",
    "    plt.xticks([]),plt.yticks([])\n",
    "\n",
    "# This routine processes a given grayscale image\n",
    "# (for e.g. produced by RGB2GRAYSCALE or HSV2GRAYSCALE)\n",
    "# Has most of the pipeline for processing.\n",
    "def process_grayscale_image(gs_image, orig_image, left_vertices=None, right_vertices=None):\n",
    "    gb_image = gaussian_blur(gs_image, 5)\n",
    "    lower_thresh = 50\n",
    "    upper_thresh = 150\n",
    "    canny_image = canny(gb_image, lower_thresh, upper_thresh)\n",
    "    if left_vertices and right_vertices:\n",
    "        roi_vertices = np.array([[\n",
    "            (int(left_vertices[0]), int(left_vertices[1])),\n",
    "            (int(left_vertices[2]), int(left_vertices[3])),\n",
    "            (int(right_vertices[0]), int(right_vertices[1])),\n",
    "            (int(right_vertices[2]), int(right_vertices[3])),        \n",
    "        ]])\n",
    "    else:\n",
    "        roi_vertices =  np.array([[\n",
    "            (int(orig_image.shape[1]*0.15), orig_image.shape[0]),\n",
    "            (int(orig_image.shape[1]*0.45), int(orig_image.shape[0]*0.5)),\n",
    "            (int(orig_image.shape[1]*0.55), int(orig_image.shape[0]*0.5)),\n",
    "            (int(orig_image.shape[1]*0.9), orig_image.shape[0])\n",
    "        ]])\n",
    "\n",
    "    \n",
    "    roi_image = region_of_interest(canny_image, roi_vertices)\n",
    "    \n",
    "    thresh = 15\n",
    "    min_line_length = 15\n",
    "    max_line_gap = 5\n",
    "    lines_image, left_vertices, right_vertices, left_len, right_len = hough_lines(\n",
    "        roi_image, 1, np.pi/180, thresh, min_line_length, max_line_gap,\n",
    "        left_vertices=left_vertices, right_vertices=right_vertices)\n",
    "    weighted_image = weighted_img(lines_image, orig_image)\n",
    "    \n",
    "    #plt.subplot(1,1,1)\n",
    "    #plt.imshow(weighted_image)\n",
    "    #plt.xticks([]),plt.yticks([])\n",
    "    #plt.show()\n",
    "\n",
    "    return weighted_image, left_vertices, right_vertices, left_len, right_len\n",
    "   \n",
    "\n",
    "# The main pipeline handler, tries rgb2grayscale and if both segments not found,\n",
    "# hsv2grayscale (It remembers previous processing so hsv2grayscale is only for\n",
    "# segment that had trouble in detection)\n",
    "def process_test_image(image=None, file_name=None, out_file_name=None):\n",
    "    if image is not None:\n",
    "        img = image\n",
    "    elif file_name is not None:        \n",
    "        img = mpimg.imread(file_name)\n",
    "\n",
    "\n",
    "    weighted_image, left_vertices, right_vertices, left_len, right_len = process_grayscale_image(\n",
    "        grayscale(img), img[:,:])\n",
    "    \n",
    "    if (left_len == 0) or (right_len == 0):\n",
    "        #print('rgb left,right ', left_len, right_len, right_vertices)\n",
    "        # try with HSV->GS\n",
    "        if (left_len == 0) and (right_len != 0):\n",
    "            weighted_image, left_vertices, right_vertices, left_len, right_len = process_grayscale_image(\n",
    "                grayscale(cv2.cvtColor(img, cv2.COLOR_BGR2HSV)), \n",
    "                weighted_image, right_vertices=right_vertices)\n",
    "        elif (right_len == 0) and (left_len != 0):\n",
    "            weighted_image, left_vertices, right_vertices, left_len, right_len = process_grayscale_image(\n",
    "                grayscale(cv2.cvtColor(img, cv2.COLOR_BGR2HSV)), \n",
    "                weighted_image, left_vertices=left_vertices)\n",
    "\n",
    "        #print('hsv left,right ', left_len, right_len)\n",
    "    \n",
    "    if out_file_name:\n",
    "        cv2.imwrite(out_file_name, weighted_image)\n",
    "    return weighted_image\n",
    "\n",
    "\n",
    "output_dir = 'test_images_output/'\n",
    "if not os.path.exists(output_dir):\n",
    "    os.makedirs(output_dir)\n",
    "    \n",
    "for file in os.listdir(\"test_images/\"):\n",
    "   process_test_image(\n",
    "        file_name='test_images/'+file,\n",
    "        out_file_name='test_images_output/'+file)\n",
    "\n",
    "#draw_test_line('test_images/solidWhiteCurve.jpg', 890, 540, 0.553)\n",
    "#draw_test_line('test_images/solidWhiteCurve.jpg', 890, 540, x2=401, y2=270)\n",
    "#draw_test_line('test_images/solidYellowCurve.jpg', 840, 540, 0.75)\n",
    "#draw_test_line('test_images/solidYellowCurve.jpg', 170, 540, -0.75)"
   ]
  },
  {
   "cell_type": "markdown",
   "metadata": {
    "deletable": true,
    "editable": true
   },
   "source": [
    "## Test on Videos\n",
    "\n",
    "You know what's cooler than drawing lanes over images? Drawing lanes over video!\n",
    "\n",
    "We can test our solution on two provided videos:\n",
    "\n",
    "`solidWhiteRight.mp4`\n",
    "\n",
    "`solidYellowLeft.mp4`\n",
    "\n",
    "**Note: if you get an `import error` when you run the next cell, try changing your kernel (select the Kernel menu above --> Change Kernel).  Still have problems?  Try relaunching Jupyter Notebook from the terminal prompt. Also, check out [this forum post](https://carnd-forums.udacity.com/questions/22677062/answers/22677109) for more troubleshooting tips.**\n",
    "\n",
    "**If you get an error that looks like this:**\n",
    "```\n",
    "NeedDownloadError: Need ffmpeg exe. \n",
    "You can download it by calling: \n",
    "imageio.plugins.ffmpeg.download()\n",
    "```\n",
    "**Follow the instructions in the error message and check out [this forum post](https://carnd-forums.udacity.com/display/CAR/questions/26218840/import-videofileclip-error) for more troubleshooting tips across operating systems.**"
   ]
  },
  {
   "cell_type": "code",
   "execution_count": null,
   "metadata": {
    "collapsed": true,
    "deletable": true,
    "editable": true
   },
   "outputs": [],
   "source": [
    "# Import everything needed to edit/save/watch video clips\n",
    "from moviepy.editor import VideoFileClip\n",
    "from IPython.display import HTML"
   ]
  },
  {
   "cell_type": "code",
   "execution_count": null,
   "metadata": {
    "collapsed": true,
    "deletable": true,
    "editable": true
   },
   "outputs": [],
   "source": [
    "def process_image(image):\n",
    "    result = process_test_image(image)\n",
    "    return result"
   ]
  },
  {
   "cell_type": "markdown",
   "metadata": {
    "deletable": true,
    "editable": true
   },
   "source": [
    "Let's try the one with the solid white lane on the right first ..."
   ]
  },
  {
   "cell_type": "code",
   "execution_count": null,
   "metadata": {
    "collapsed": false,
    "deletable": true,
    "editable": true,
    "scrolled": false
   },
   "outputs": [],
   "source": [
    "output_dir = 'test_videos_output/'\n",
    "if not os.path.exists(output_dir):\n",
    "    os.makedirs(output_dir)\n",
    "    \n",
    "white_output = 'test_videos_output/solidWhiteRight.mp4'\n",
    "## To speed up the testing process you may want to try your pipeline on a shorter subclip of the video\n",
    "## To do so add .subclip(start_second,end_second) to the end of the line below\n",
    "## Where start_second and end_second are integer values representing the start and end of the subclip\n",
    "## You may also uncomment the following line for a subclip of the first 5 seconds\n",
    "#clip1 = VideoFileClip(\"test_videos/solidWhiteRight.mp4\").subclip(1,2)\n",
    "clip1 = VideoFileClip(\"test_videos/solidWhiteRight.mp4\")\n",
    "white_clip = clip1.fl_image(process_image) #NOTE: this function expects color images!!\n",
    "%time white_clip.write_videofile(white_output, audio=False)"
   ]
  },
  {
   "cell_type": "markdown",
   "metadata": {
    "deletable": true,
    "editable": true
   },
   "source": [
    "Play the video inline, or if you prefer find the video in your filesystem (should be in the same directory) and play it in your video player of choice."
   ]
  },
  {
   "cell_type": "code",
   "execution_count": null,
   "metadata": {
    "collapsed": false,
    "deletable": true,
    "editable": true
   },
   "outputs": [],
   "source": [
    "HTML(\"\"\"\n",
    "<video width=\"960\" height=\"540\" controls>\n",
    "  <source src=\"{0}\">\n",
    "</video>\n",
    "\"\"\".format(white_output))"
   ]
  },
  {
   "cell_type": "markdown",
   "metadata": {
    "deletable": true,
    "editable": true
   },
   "source": [
    "## Improve the draw_lines() function\n",
    "\n",
    "**At this point, if you were successful with making the pipeline and tuning parameters, you probably have the Hough line segments drawn onto the road, but what about identifying the full extent of the lane and marking it clearly as in the example video (P1_example.mp4)?  Think about defining a line to run the full length of the visible lane based on the line segments you identified with the Hough Transform. As mentioned previously, try to average and/or extrapolate the line segments you've detected to map out the full extent of the lane lines. You can see an example of the result you're going for in the video \"P1_example.mp4\".**\n",
    "\n",
    "**Go back and modify your draw_lines function accordingly and try re-running your pipeline. The new output should draw a single, solid line over the left lane line and a single, solid line over the right lane line. The lines should start from the bottom of the image and extend out to the top of the region of interest.**"
   ]
  },
  {
   "cell_type": "markdown",
   "metadata": {
    "deletable": true,
    "editable": true
   },
   "source": [
    "Now for the one with the solid yellow lane on the left. This one's more tricky!"
   ]
  },
  {
   "cell_type": "code",
   "execution_count": null,
   "metadata": {
    "collapsed": false,
    "deletable": true,
    "editable": true,
    "scrolled": false
   },
   "outputs": [],
   "source": [
    "yellow_output = 'test_videos_output/solidYellowLeft.mp4'\n",
    "## To speed up the testing process you may want to try your pipeline on a shorter subclip of the video\n",
    "## To do so add .subclip(start_second,end_second) to the end of the line below\n",
    "## Where start_second and end_second are integer values representing the start and end of the subclip\n",
    "## You may also uncomment the following line for a subclip of the first 5 seconds\n",
    "#clip2 = VideoFileClip('test_videos/solidYellowLeft.mp4').subclip(21.5,21.75)\n",
    "clip2 = VideoFileClip('test_videos/solidYellowLeft.mp4')\n",
    "yellow_clip = clip2.fl_image(process_image)\n",
    "%time yellow_clip.write_videofile(yellow_output, audio=False)"
   ]
  },
  {
   "cell_type": "code",
   "execution_count": null,
   "metadata": {
    "collapsed": false,
    "deletable": true,
    "editable": true
   },
   "outputs": [],
   "source": [
    "HTML(\"\"\"\n",
    "<video width=\"960\" height=\"540\" controls>\n",
    "  <source src=\"{0}\">\n",
    "</video>\n",
    "\"\"\".format(yellow_output))"
   ]
  },
  {
   "cell_type": "markdown",
   "metadata": {
    "deletable": true,
    "editable": true
   },
   "source": [
    "## Writeup and Submission\n",
    "\n",
    "If you're satisfied with your video outputs, it's time to make the report writeup in a pdf or markdown file. Once you have this Ipython notebook ready along with the writeup, it's time to submit for review! Here is a [link](https://github.com/udacity/CarND-LaneLines-P1/blob/master/writeup_template.md) to the writeup template file.\n"
   ]
  },
  {
   "cell_type": "markdown",
   "metadata": {
    "collapsed": true,
    "deletable": true,
    "editable": true
   },
   "source": [
    "## Optional Challenge\n",
    "\n",
    "Try your lane finding pipeline on the video below.  Does it still work?  Can you figure out a way to make it more robust?  If you're up for the challenge, modify your pipeline so it works with this video and submit it along with the rest of your project!"
   ]
  },
  {
   "cell_type": "code",
   "execution_count": null,
   "metadata": {
    "collapsed": false,
    "deletable": true,
    "editable": true,
    "scrolled": false
   },
   "outputs": [],
   "source": [
    "challenge_output = 'test_videos_output/challenge.mp4'\n",
    "## To speed up the testing process you may want to try your pipeline on a shorter subclip of the video\n",
    "## To do so add .subclip(start_second,end_second) to the end of the line below\n",
    "## Where start_second and end_second are integer values representing the start and end of the subclip\n",
    "## You may also uncomment the following line for a subclip of the first 5 seconds#\n",
    "#clip3 = VideoFileClip('test_videos/challenge.mp4').subclip(3,3.5)\n",
    "clip3 = VideoFileClip('test_videos/challenge.mp4')\n",
    "challenge_clip = clip3.fl_image(process_image)\n",
    "%time challenge_clip.write_videofile(challenge_output, audio=False)"
   ]
  },
  {
   "cell_type": "code",
   "execution_count": null,
   "metadata": {
    "collapsed": false,
    "deletable": true,
    "editable": true
   },
   "outputs": [],
   "source": [
    "HTML(\"\"\"\n",
    "<video width=\"960\" height=\"540\" controls>\n",
    "  <source src=\"{0}\">\n",
    "</video>\n",
    "\"\"\".format(challenge_output))"
   ]
  },
  {
   "cell_type": "code",
   "execution_count": null,
   "metadata": {
    "collapsed": true,
    "deletable": true,
    "editable": true
   },
   "outputs": [],
   "source": []
  }
 ],
 "metadata": {
  "anaconda-cloud": {},
  "kernelspec": {
   "display_name": "Python 3",
   "language": "python",
   "name": "python3"
  },
  "language_info": {
   "codemirror_mode": {
    "name": "ipython",
    "version": 3
   },
   "file_extension": ".py",
   "mimetype": "text/x-python",
   "name": "python",
   "nbconvert_exporter": "python",
   "pygments_lexer": "ipython3",
   "version": "3.5.2"
  },
  "widgets": {
   "state": {},
   "version": "1.1.2"
  }
 },
 "nbformat": 4,
 "nbformat_minor": 0
}
